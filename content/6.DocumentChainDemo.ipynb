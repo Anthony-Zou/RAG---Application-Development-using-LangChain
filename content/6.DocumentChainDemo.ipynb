{
 "cells": [
  {
   "cell_type": "markdown",
   "id": "fb2805ac",
   "metadata": {},
   "source": [
    "**Document Chains Demo**\n",
    "- Stuff\n",
    "- Refine\n",
    "- Map Reduce"
   ]
  },
  {
   "cell_type": "code",
   "execution_count": 1,
   "id": "64fdfefe",
   "metadata": {},
   "outputs": [],
   "source": [
    "import os\n",
    "import getpass\n",
    "import textwrap\n",
    "\n",
    "from langchain import PromptTemplate, LLMChain\n",
    "from langchain.chains.mapreduce import MapReduceChain\n",
    "from langchain.prompts import PromptTemplate\n",
    "from langchain.chains.summarize import load_summarize_chain\n",
    "from langchain.docstore.document import Document\n",
    "from langchain.text_splitter import CharacterTextSplitter\n",
    "\n",
    "\n",
    "from dotenv import load_dotenv\n",
    "from langchain_google_genai import ChatGoogleGenerativeAI\n",
    "load_dotenv()\n",
    "import os\n",
    "\n",
    "llm = ChatGoogleGenerativeAI(\n",
    "    model=\"gemini-2.0-flash\", \n",
    "    temperature=0.5, \n",
    "    google_api_key=os.getenv(\"GOOGLE_API_KEY\"))"
   ]
  },
  {
   "cell_type": "markdown",
   "id": "572f9a82",
   "metadata": {},
   "source": [
    "**Stuff Chain**"
   ]
  },
  {
   "cell_type": "code",
   "execution_count": 22,
   "id": "705ae5bd",
   "metadata": {},
   "outputs": [],
   "source": [
    "from langchain_community.document_loaders import PyPDFLoader\n",
    "loader = PyPDFLoader(\"resume_sample.pdf\")\n",
    "docs = loader.load()\n"
   ]
  },
  {
   "cell_type": "code",
   "execution_count": 23,
   "id": "2c8820e6",
   "metadata": {},
   "outputs": [
    {
     "name": "stdout",
     "output_type": "stream",
     "text": [
      "Document 1:\n",
      "ALEX MORGAN\n",
      "AI Engineer\n",
      "Contact:alex.morgan@email.com | (555) 123-4567 | linkedin.com/in/alexmorgan\n",
      "Location: San Francisco, CA\n",
      "Portfolio: github.com/alexmorgan | alexmorgan.dev\n",
      "PROFESSIONAL SUMMARY\n",
      "Logical and detail-oriented AI Engineer with 5 years of experience designing and implementing\n",
      "production-grade machine learning systems. Specialized in natural language processing,\n",
      "reinforcement learning, and computer vision with a proven track record of reducing inference\n",
      "times by 40% and improving model accuracy by 25%. Experienced in full ML lifecycle from\n",
      "research and prototyping to deployment and monitoring.\n",
      "SKILLS\n",
      "Programming Languages: Python, C++, JavaScript, SQL\n",
      "ML Frameworks: PyTorch, TensorFlow, Keras, Scikit-learn, Hugging Face Transformers\n",
      "Cloud & MLOps: AWS (SageMaker, Lambda), Docker, Kubernetes, MLflow, Kubeflow, Airflow\n",
      "Data Processing: Pandas, NumPy, Dask, Apache Spark, PostgreSQL\n",
      "NLP & Computer Vision: BERT, GPT, YOLO, ResNet, Transformers, OpenCV\n",
      "Software Engineering: Git, CI/CD, Agile/Scrum, Test-Driven Development\n",
      "WORK EXPERIENCE\n",
      "Senior AI Engineer | TechVision AI | San Francisco, CA | Jan 2023 - Present\n",
      "Lead a team of 4 engineers in developing and optimizing real-time recommendation\n",
      "algorithms, resulting in a 22% increase in user engagement\n",
      "Architected and deployed a distributed training pipeline for large language models (LLMs)\n",
      "that reduced training time by 35%\n",
      "Improved model inference latency by 40% through quantization and distillation techniques\n",
      "\n",
      "\n",
      "\n",
      "Document 2:\n",
      "Designed a robust monitoring system that detects model drift and triggers retraining,\n",
      "reducing manual intervention by 80%\n",
      "Implemented A/B testing framework for ML models, enabling data-driven decision making for\n",
      "model selection\n",
      "AI Engineer | DataSmart Solutions | San Francisco, CA | Mar 2020 - Dec 2022\n",
      "Developed a sentiment analysis system processing 10M+ customer reviews daily with 92%\n",
      "accuracy\n",
      "Created computer vision models for manufacturing defect detection, reducing error rates by\n",
      "30%\n",
      "Implemented reinforcement learning algorithms for dynamic pricing, increasing revenue by\n",
      "15%\n",
      "Built and maintained data pipelines processing 500GB+ of data daily using Apache Spark\n",
      "Collaborated with product teams to identify AI use cases and translate business\n",
      "requirements into technical specifications\n",
      "Machine Learning Engineer | InnovateTech | Mountain View, CA | Jun 2019 - Feb\n",
      "2020\n",
      "Designed and implemented NLP models for customer support automation, handling 60% of\n",
      "incoming queries\n",
      "Optimized data preprocessing pipelines, reducing ETL processing time by 45%\n",
      "Developed proof-of-concept models for new product features using rapid prototyping\n",
      "EDUCATION\n",
      "Master of Science in Computer Science | Stanford University | 2019\n",
      "Specialization: Artificial Intelligence\n",
      "Thesis: \"Efficient Transformer Architectures for Resource-Constrained Environments\"\n",
      "GPA: 3.9/4.0\n",
      "Bachelor of Science in Mathematics | University of California, Berkeley | 2017\n",
      "Minor: Computer Science\n",
      "GPA: 3.8/4.0\n",
      "PROJECTS\n",
      "Autonomous Drone Navigation System\n",
      "\n",
      "\n",
      "\n",
      "Document 3:\n",
      "Implemented deep reinforcement learning algorithms for autonomous navigation in complex\n",
      "environments\n",
      "Achieved 95% successful navigation rate in simulated urban environments\n",
      "Medical Image Segmentation\n",
      "Developed a U-Net based architecture for automatic segmentation of medical images\n",
      "Improved accuracy by 18% over previous state-of-the-art methods\n",
      "Multilingual Question-Answering System\n",
      "Created a transformer-based QA system supporting 8 languages\n",
      "Deployed as a scalable microservice handling 1000+ queries per minute\n",
      "CERTIFICATIONS\n",
      "AWS Certified Machine Learning - Specialty (2023)\n",
      "Google Professional Machine Learning Engineer (2022)\n",
      "Deep Learning Specialization - Coursera (2021)\n",
      "PUBLICATIONS\n",
      "Morgan, A., et al. (2023). \"Efficient Fine-tuning Strategies for Large Language Models.\"\n",
      "Conference on Neural Information Processing Systems (NeurIPS)\n",
      "Morgan, A., Zhang, L. (2022). \"Optimizing Transformer Models for Edge Devices.\"\n",
      "International Conference on Machine Learning (ICML)\n",
      "LANGUAGES\n",
      "English (Native), Mandarin Chinese (Intermediate), Spanish (Basic)\n",
      "\n",
      "\n",
      "\n"
     ]
    }
   ],
   "source": [
    "cnt = 0\n",
    "for doc in docs:\n",
    "    cnt += 1\n",
    "    print(f\"Document {cnt}:\")\n",
    "    print(doc.page_content)\n",
    "    print(\"\\n\\n\")"
   ]
  },
  {
   "cell_type": "code",
   "execution_count": 24,
   "id": "8c763e2e",
   "metadata": {},
   "outputs": [],
   "source": [
    "prompt_template = \"\"\"\n",
    "You are given a Resume as the below text.\n",
    "------\n",
    "{text}\n",
    "------\n",
    "Question: Please respond with the Key Skills and Experience summary of the person.\n",
    "Key Skills:\n",
    "Experience Summary:\n",
    "\"\"\""
   ]
  },
  {
   "cell_type": "code",
   "execution_count": 25,
   "id": "b78307be",
   "metadata": {},
   "outputs": [],
   "source": [
    "prompt = PromptTemplate(template=prompt_template, input_variables=[\"text\"])\n",
    "\n",
    "stuff_chain = load_summarize_chain(llm, chain_type=\"stuff\", prompt=prompt)\n",
    "\n",
    "output_summary = stuff_chain.run(docs)"
   ]
  },
  {
   "cell_type": "code",
   "execution_count": 28,
   "id": "29fecebe",
   "metadata": {},
   "outputs": [
    {
     "name": "stdout",
     "output_type": "stream",
     "text": [
      "**Key Skills:**\n",
      "\n",
      "*   **Programming Languages:** Python, C++, JavaScript, SQL\n",
      "*   **ML Frameworks:** PyTorch, TensorFlow, Keras, Scikit-learn, Hugging Face Transformers\n",
      "*   **Cloud & MLOps:** AWS (SageMaker, Lambda), Docker, Kubernetes, MLflow, Kubeflow, Airflow\n",
      "*   **Data Processing:** Pandas, NumPy, Dask, Apache Spark, PostgreSQL\n",
      "*   **NLP & Computer Vision:** BERT, GPT, YOLO, ResNet, Transformers, OpenCV\n",
      "*   **Software Engineering:** Git, CI/CD, Agile/Scrum, Test-Driven Development\n",
      "\n",
      "**Experience Summary:**\n",
      "\n",
      "Alex Morgan is an AI Engineer with 5 years of experience in designing, implementing, and deploying production-grade machine learning systems. Their expertise spans natural language processing, reinforcement learning, and computer vision. They have a proven track record of improving model performance and efficiency, including reducing inference times and increasing model accuracy. Alex has experience leading teams, architecting distributed training pipelines, and implementing monitoring systems. They have worked on a variety of projects, including recommendation algorithms, sentiment analysis systems, computer vision models for defect detection, and NLP models for customer support automation.\n"
     ]
    }
   ],
   "source": [
    "print(output_summary)"
   ]
  },
  {
   "cell_type": "markdown",
   "id": "40a6e5bc",
   "metadata": {},
   "source": [
    "**Refine Chain**\n"
   ]
  },
  {
   "cell_type": "code",
   "execution_count": 29,
   "id": "592aaebe",
   "metadata": {},
   "outputs": [
    {
     "name": "stdout",
     "output_type": "stream",
     "text": [
      "Your job is to produce a final summary.\n",
      "We have provided an existing summary up to a certain point: {existing_answer}\n",
      "We have the opportunity to refine the existing summary (only if needed) with some more context below.\n",
      "------------\n",
      "{text}\n",
      "------------\n",
      "Given the new context, refine the original summary.\n",
      "If the context isn't useful, return the original summary.\n"
     ]
    }
   ],
   "source": [
    "refine_chain = load_summarize_chain(llm, chain_type=\"refine\")\n",
    "print(refine_chain.refine_llm_chain.prompt.template)"
   ]
  },
  {
   "cell_type": "code",
   "execution_count": 31,
   "id": "02729056",
   "metadata": {},
   "outputs": [
    {
     "name": "stdout",
     "output_type": "stream",
     "text": [
      "Alex Morgan is a San Francisco-based AI Engineer with 5 years of experience in designing and implementing production-grade machine learning systems, specializing in NLP, reinforcement learning, and computer vision. Proven ability to improve model performance (e.g., 40% inference time reduction) and lead teams, as demonstrated by leading a team at TechVision AI where they improved user engagement by 22% and reduced LLM training time by 35%. Proficient in a wide range of programming languages, ML frameworks, cloud technologies, and data processing tools. Experience includes designing monitoring systems for model drift (reducing manual intervention by 80%), implementing A/B testing frameworks, and developing sentiment analysis systems processing 10M+ reviews daily with 92% accuracy. Further experience includes implementing deep reinforcement learning algorithms for autonomous navigation (achieving 95% success in simulated urban environments), developing U-Net based architectures for medical image segmentation (improving accuracy by 18% over previous methods), and creating a transformer-based multilingual question-answering system supporting 8 languages and handling 1000+ queries per minute. Holds a Master of Science in Computer Science from Stanford University with a specialization in AI and a Bachelor of Science in Mathematics from UC Berkeley. Certified as an AWS Certified Machine Learning - Specialty (2023), Google Professional Machine Learning Engineer (2022), and completed the Deep Learning Specialization on Coursera (2021). Author of publications at NeurIPS (2023) and ICML (2022) focusing on efficient fine-tuning strategies for LLMs and optimizing transformer models for edge devices. Fluent in English, with intermediate Mandarin Chinese and basic Spanish proficiency.\n"
     ]
    }
   ],
   "source": [
    "output_summary = refine_chain.run(docs)\n",
    "print(output_summary)"
   ]
  },
  {
   "cell_type": "markdown",
   "id": "d77ad9c0",
   "metadata": {},
   "source": [
    "Alex Morgan is a San Francisco-based AI Engineer with 5 years of experience in designing and implementing production-grade machine learning systems, specializing in NLP, reinforcement learning, and computer vision. Proven ability to improve model performance (e.g., 40% inference time reduction) and lead teams, as demonstrated by leading a team at TechVision AI where they improved user engagement by 22% and reduced LLM training time by 35%. Proficient in a wide range of programming languages, ML frameworks, cloud technologies, and data processing tools. Experience includes designing monitoring systems for model drift (reducing manual intervention by 80%), implementing A/B testing frameworks, and developing sentiment analysis systems processing 10M+ reviews daily with 92% accuracy. Further experience includes implementing deep reinforcement learning algorithms for autonomous navigation (achieving 95% success in simulated urban environments), developing U-Net based architectures for medical image segmentation (improving accuracy by 18% over previous methods), and creating a transformer-based multilingual question-answering system supporting 8 languages and handling 1000+ queries per minute. Holds a Master of Science in Computer Science from Stanford University with a specialization in AI and a Bachelor of Science in Mathematics from UC Berkeley. Certified as an AWS Certified Machine Learning - Specialty (2023), Google Professional Machine Learning Engineer (2022), and completed the Deep Learning Specialization on Coursera (2021). Author of publications at NeurIPS (2023) and ICML (2022) focusing on efficient fine-tuning strategies for LLMs and optimizing transformer models for edge devices. Fluent in English, with intermediate Mandarin Chinese and basic Spanish proficiency."
   ]
  },
  {
   "cell_type": "markdown",
   "id": "434c7742",
   "metadata": {},
   "source": [
    "**MAP-Reduce Chain**"
   ]
  },
  {
   "cell_type": "code",
   "execution_count": 32,
   "id": "f636c9ac",
   "metadata": {},
   "outputs": [],
   "source": [
    "map_reduce_chain = load_summarize_chain(llm, chain_type=\"map_reduce\",verbose=True)\n"
   ]
  },
  {
   "cell_type": "code",
   "execution_count": 34,
   "id": "053028fb",
   "metadata": {},
   "outputs": [
    {
     "name": "stdout",
     "output_type": "stream",
     "text": [
      "Write a concise summary of the following:\n",
      "\n",
      "\n",
      "\"{text}\"\n",
      "\n",
      "\n",
      "CONCISE SUMMARY:\n"
     ]
    }
   ],
   "source": [
    "print(map_reduce_chain.llm_chain.prompt.template)"
   ]
  },
  {
   "cell_type": "code",
   "execution_count": 35,
   "id": "13cb08ab",
   "metadata": {},
   "outputs": [
    {
     "name": "stdout",
     "output_type": "stream",
     "text": [
      "\n",
      "\n",
      "\u001b[1m> Entering new MapReduceDocumentsChain chain...\u001b[0m\n",
      "\n",
      "\n",
      "\u001b[1m> Entering new LLMChain chain...\u001b[0m\n",
      "Prompt after formatting:\n",
      "\u001b[32;1m\u001b[1;3mWrite a concise summary of the following:\n",
      "\n",
      "\n",
      "\"ALEX MORGAN\n",
      "AI Engineer\n",
      "Contact:alex.morgan@email.com | (555) 123-4567 | linkedin.com/in/alexmorgan\n",
      "Location: San Francisco, CA\n",
      "Portfolio: github.com/alexmorgan | alexmorgan.dev\n",
      "PROFESSIONAL SUMMARY\n",
      "Logical and detail-oriented AI Engineer with 5 years of experience designing and implementing\n",
      "production-grade machine learning systems. Specialized in natural language processing,\n",
      "reinforcement learning, and computer vision with a proven track record of reducing inference\n",
      "times by 40% and improving model accuracy by 25%. Experienced in full ML lifecycle from\n",
      "research and prototyping to deployment and monitoring.\n",
      "SKILLS\n",
      "Programming Languages: Python, C++, JavaScript, SQL\n",
      "ML Frameworks: PyTorch, TensorFlow, Keras, Scikit-learn, Hugging Face Transformers\n",
      "Cloud & MLOps: AWS (SageMaker, Lambda), Docker, Kubernetes, MLflow, Kubeflow, Airflow\n",
      "Data Processing: Pandas, NumPy, Dask, Apache Spark, PostgreSQL\n",
      "NLP & Computer Vision: BERT, GPT, YOLO, ResNet, Transformers, OpenCV\n",
      "Software Engineering: Git, CI/CD, Agile/Scrum, Test-Driven Development\n",
      "WORK EXPERIENCE\n",
      "Senior AI Engineer | TechVision AI | San Francisco, CA | Jan 2023 - Present\n",
      "Lead a team of 4 engineers in developing and optimizing real-time recommendation\n",
      "algorithms, resulting in a 22% increase in user engagement\n",
      "Architected and deployed a distributed training pipeline for large language models (LLMs)\n",
      "that reduced training time by 35%\n",
      "Improved model inference latency by 40% through quantization and distillation techniques\"\n",
      "\n",
      "\n",
      "CONCISE SUMMARY:\u001b[0m\n",
      "Prompt after formatting:\n",
      "\u001b[32;1m\u001b[1;3mWrite a concise summary of the following:\n",
      "\n",
      "\n",
      "\"Designed a robust monitoring system that detects model drift and triggers retraining,\n",
      "reducing manual intervention by 80%\n",
      "Implemented A/B testing framework for ML models, enabling data-driven decision making for\n",
      "model selection\n",
      "AI Engineer | DataSmart Solutions | San Francisco, CA | Mar 2020 - Dec 2022\n",
      "Developed a sentiment analysis system processing 10M+ customer reviews daily with 92%\n",
      "accuracy\n",
      "Created computer vision models for manufacturing defect detection, reducing error rates by\n",
      "30%\n",
      "Implemented reinforcement learning algorithms for dynamic pricing, increasing revenue by\n",
      "15%\n",
      "Built and maintained data pipelines processing 500GB+ of data daily using Apache Spark\n",
      "Collaborated with product teams to identify AI use cases and translate business\n",
      "requirements into technical specifications\n",
      "Machine Learning Engineer | InnovateTech | Mountain View, CA | Jun 2019 - Feb\n",
      "2020\n",
      "Designed and implemented NLP models for customer support automation, handling 60% of\n",
      "incoming queries\n",
      "Optimized data preprocessing pipelines, reducing ETL processing time by 45%\n",
      "Developed proof-of-concept models for new product features using rapid prototyping\n",
      "EDUCATION\n",
      "Master of Science in Computer Science | Stanford University | 2019\n",
      "Specialization: Artificial Intelligence\n",
      "Thesis: \"Efficient Transformer Architectures for Resource-Constrained Environments\"\n",
      "GPA: 3.9/4.0\n",
      "Bachelor of Science in Mathematics | University of California, Berkeley | 2017\n",
      "Minor: Computer Science\n",
      "GPA: 3.8/4.0\n",
      "PROJECTS\n",
      "Autonomous Drone Navigation System\"\n",
      "\n",
      "\n",
      "CONCISE SUMMARY:\u001b[0m\n",
      "Prompt after formatting:\n",
      "\u001b[32;1m\u001b[1;3mWrite a concise summary of the following:\n",
      "\n",
      "\n",
      "\"Implemented deep reinforcement learning algorithms for autonomous navigation in complex\n",
      "environments\n",
      "Achieved 95% successful navigation rate in simulated urban environments\n",
      "Medical Image Segmentation\n",
      "Developed a U-Net based architecture for automatic segmentation of medical images\n",
      "Improved accuracy by 18% over previous state-of-the-art methods\n",
      "Multilingual Question-Answering System\n",
      "Created a transformer-based QA system supporting 8 languages\n",
      "Deployed as a scalable microservice handling 1000+ queries per minute\n",
      "CERTIFICATIONS\n",
      "AWS Certified Machine Learning - Specialty (2023)\n",
      "Google Professional Machine Learning Engineer (2022)\n",
      "Deep Learning Specialization - Coursera (2021)\n",
      "PUBLICATIONS\n",
      "Morgan, A., et al. (2023). \"Efficient Fine-tuning Strategies for Large Language Models.\"\n",
      "Conference on Neural Information Processing Systems (NeurIPS)\n",
      "Morgan, A., Zhang, L. (2022). \"Optimizing Transformer Models for Edge Devices.\"\n",
      "International Conference on Machine Learning (ICML)\n",
      "LANGUAGES\n",
      "English (Native), Mandarin Chinese (Intermediate), Spanish (Basic)\"\n",
      "\n",
      "\n",
      "CONCISE SUMMARY:\u001b[0m\n",
      "\n",
      "\u001b[1m> Finished chain.\u001b[0m\n",
      "\n",
      "\n",
      "\u001b[1m> Entering new LLMChain chain...\u001b[0m\n",
      "Prompt after formatting:\n",
      "\u001b[32;1m\u001b[1;3mWrite a concise summary of the following:\n",
      "\n",
      "\n",
      "\"Alex Morgan is a San Francisco-based AI Engineer with 5 years of experience in designing and implementing production-grade machine learning systems, specializing in NLP, reinforcement learning, and computer vision. Proven ability to improve model performance and reduce inference times. Proficient in Python, various ML frameworks, cloud technologies, and data processing tools. Currently a Senior AI Engineer at TechVision AI, leading a team and optimizing recommendation algorithms, resulting in increased user engagement and reduced training time.\n",
      "\n",
      "This individual is an experienced AI/ML Engineer with a strong background in NLP, computer vision, reinforcement learning, and data pipelines. They have a proven track record of developing and deploying AI solutions that drive significant business impact, including increased revenue, reduced error rates, and improved efficiency. Key accomplishments include building a sentiment analysis system, creating defect detection models, implementing dynamic pricing algorithms, and automating customer support. They possess strong data engineering skills using tools like Apache Spark and have experience with A/B testing and model monitoring. They hold an MS in Computer Science (AI specialization) from Stanford University and a BS in Mathematics from UC Berkeley.\n",
      "\n",
      "This individual possesses expertise in deep learning, demonstrated through projects in autonomous navigation (95% success rate), medical image segmentation (18% accuracy improvement), and multilingual question answering (1000+ QPM). They are certified in AWS and Google Machine Learning and have published research at NeurIPS and ICML. They are fluent in English, with intermediate Mandarin and basic Spanish.\"\n",
      "\n",
      "\n",
      "CONCISE SUMMARY:\u001b[0m\n",
      "\n",
      "\u001b[1m> Finished chain.\u001b[0m\n",
      "\n",
      "\u001b[1m> Finished chain.\u001b[0m\n",
      "Alex Morgan is a San Francisco-based Senior AI Engineer at TechVision AI with 5 years of experience in NLP, reinforcement learning, and computer vision. They have a proven track record of developing and deploying production-grade ML systems that drive business impact, including recommendation algorithms, sentiment analysis, and defect detection. Proficient in Python, ML frameworks, cloud technologies, and data processing tools, with expertise in deep learning and publications at NeurIPS and ICML. They hold degrees from Stanford and UC Berkeley and are certified in AWS and Google Machine Learning.\n"
     ]
    }
   ],
   "source": [
    "output_summary = map_reduce_chain.run(docs)\n",
    "print(output_summary)"
   ]
  },
  {
   "cell_type": "code",
   "execution_count": null,
   "id": "37f18af4",
   "metadata": {},
   "outputs": [],
   "source": []
  }
 ],
 "metadata": {
  "kernelspec": {
   "display_name": "rag_env",
   "language": "python",
   "name": "python3"
  },
  "language_info": {
   "codemirror_mode": {
    "name": "ipython",
    "version": 3
   },
   "file_extension": ".py",
   "mimetype": "text/x-python",
   "name": "python",
   "nbconvert_exporter": "python",
   "pygments_lexer": "ipython3",
   "version": "3.9.21"
  }
 },
 "nbformat": 4,
 "nbformat_minor": 5
}
