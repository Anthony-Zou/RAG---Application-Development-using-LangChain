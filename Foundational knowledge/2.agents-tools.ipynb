{
 "cells": [
  {
   "cell_type": "markdown",
   "id": "41db8de0",
   "metadata": {},
   "source": [
    "### Agents and Tools\n",
    "\n",
    "#### Agents: Agents enables LLMs to work with tools that perform various tasks\n",
    "\n",
    "To use agents, we require three things:\n",
    " - A base LLM\n",
    " - A tool that we will be interacting with,\n",
    " - An agent to control the interaction."
   ]
  },
  {
   "cell_type": "markdown",
   "id": "512c36ac",
   "metadata": {},
   "source": [
    "#### In the following example, we will use the Math tool to perform some simple math operations"
   ]
  },
  {
   "cell_type": "code",
   "execution_count": 3,
   "id": "85fb8121",
   "metadata": {},
   "outputs": [
    {
     "data": {
      "text/plain": [
       "True"
      ]
     },
     "execution_count": 3,
     "metadata": {},
     "output_type": "execute_result"
    }
   ],
   "source": [
    "from dotenv import load_dotenv\n",
    "from langchain_google_genai import ChatGoogleGenerativeAI\n",
    "load_dotenv()"
   ]
  },
  {
   "cell_type": "code",
   "execution_count": 4,
   "id": "ef7ea931",
   "metadata": {},
   "outputs": [],
   "source": [
    "import os\n",
    "\n",
    "llm = ChatGoogleGenerativeAI(\n",
    "    model=\"gemini-2.0-flash\", \n",
    "    temperature=0.5, \n",
    "    google_api_key=os.getenv(\"GOOGLE_API_KEY\"))"
   ]
  },
  {
   "cell_type": "code",
   "execution_count": 2,
   "id": "1157cf12",
   "metadata": {},
   "outputs": [],
   "source": [
    "#Chain that interprets a prompt and executes python code to do math\n",
    "from langchain.chains import LLMMathChain \n",
    "from langchain.agents import Tool"
   ]
  },
  {
   "cell_type": "code",
   "execution_count": 8,
   "id": "b68eb88e",
   "metadata": {},
   "outputs": [
    {
     "name": "stderr",
     "output_type": "stream",
     "text": [
      "/Applications/anaconda3/envs/rag_env/lib/python3.9/site-packages/langchain/chains/llm_math/base.py:175: UserWarning: Directly instantiating an LLMMathChain with an llm is deprecated. Please instantiate with llm_chain argument or using the from_llm class method.\n",
      "  warnings.warn(\n"
     ]
    }
   ],
   "source": [
    "# initialize the math tool\n",
    "llm_math = LLMMathChain(llm=llm)\n",
    "\n",
    "math_tool = Tool(\n",
    "    name='Calculator',\n",
    "    func=llm_math.run,\n",
    "    description='Useful for when you need to answer math questions.'\n",
    ")\n",
    "\n",
    "tools = [math_tool]"
   ]
  },
  {
   "cell_type": "code",
   "execution_count": 17,
   "id": "154da85c",
   "metadata": {},
   "outputs": [
    {
     "name": "stdout",
     "output_type": "stream",
     "text": [
      "Calculator --- Useful for when you need to answer math questions.\n"
     ]
    }
   ],
   "source": [
    "print(tools[0].name,\"---\", tools[0].description)"
   ]
  },
  {
   "cell_type": "markdown",
   "id": "4f692b09",
   "metadata": {},
   "source": [
    "#### Now create an Agent\n",
    "##### Zero-shot ReAct\n",
    "The Zero-shot Reacr Agent is a language generation model that can create realistic contexts even without being traineed on specific data. It can be used for various tasks such as generating creative text formats, language transalation, and generating different types of creative contents."
   ]
  },
  {
   "cell_type": "code",
   "execution_count": 8,
   "id": "09ac3914",
   "metadata": {},
   "outputs": [],
   "source": [
    "from langchain.agents import initialize_agent"
   ]
  },
  {
   "cell_type": "code",
   "execution_count": 15,
   "id": "0ded6051",
   "metadata": {},
   "outputs": [],
   "source": [
    "zero_shot_agent = initialize_agent(\n",
    "    agent=\"zero-shot-react-description\",\n",
    "    tools=tools,\n",
    "    llm=llm,\n",
    "    verbose=True,\n",
    "    max_iterations=10\n",
    ")"
   ]
  },
  {
   "cell_type": "code",
   "execution_count": 16,
   "id": "26af5b56",
   "metadata": {},
   "outputs": [
    {
     "name": "stderr",
     "output_type": "stream",
     "text": [
      "/var/folders/y_/0dh_vnhx4h9bd_bn8cgqtnd00000gn/T/ipykernel_12900/2229265460.py:1: LangChainDeprecationWarning: The method `Chain.__call__` was deprecated in langchain 0.1.0 and will be removed in 1.0. Use :meth:`~invoke` instead.\n",
      "  zero_shot_agent(\"What is root over 25\")\n"
     ]
    },
    {
     "name": "stdout",
     "output_type": "stream",
     "text": [
      "\n",
      "\n",
      "\u001b[1m> Entering new AgentExecutor chain...\u001b[0m\n",
      "\u001b[32;1m\u001b[1;3mThe question is asking for the square root of 25.\n",
      "Action: Calculator\n",
      "Action Input: sqrt(25)\u001b[0m\n",
      "Observation: \u001b[36;1m\u001b[1;3mAnswer: 5.0\u001b[0m\n",
      "Thought:\u001b[32;1m\u001b[1;3mI now know the final answer\n",
      "Final Answer: 5.0\u001b[0m\n",
      "\n",
      "\u001b[1m> Finished chain.\u001b[0m\n"
     ]
    },
    {
     "data": {
      "text/plain": [
       "{'input': 'What is root over 25', 'output': '5.0'}"
      ]
     },
     "execution_count": 16,
     "metadata": {},
     "output_type": "execute_result"
    }
   ],
   "source": [
    "zero_shot_agent(\"What is root over 25\")"
   ]
  },
  {
   "cell_type": "code",
   "execution_count": null,
   "id": "a55aff4d",
   "metadata": {},
   "outputs": [],
   "source": [
    "problem = \"\"\"\n",
    "The ratio of the number of boys to the number of girls was 3: 5. \n",
    "Each boy was given 2 stickers and each girl was given 3. \n",
    "The girls received 81 more stickers than the boys. \n",
    "How many stickers did the boys receive in total?\n",
    "\"\"\""
   ]
  },
  {
   "cell_type": "code",
   "execution_count": 19,
   "id": "96b9caec",
   "metadata": {},
   "outputs": [
    {
     "name": "stdout",
     "output_type": "stream",
     "text": [
      "\n",
      "\n",
      "\u001b[1m> Entering new AgentExecutor chain...\u001b[0m\n",
      "\u001b[32;1m\u001b[1;3mLet $b$ be the number of boys and $g$ be the number of girls.\n",
      "We are given that the ratio of boys to girls is 3:5, so $\\frac{b}{g} = \\frac{3}{5}$.\n",
      "We can write $b = 3x$ and $g = 5x$ for some value of $x$.\n",
      "Each boy received 2 stickers, so the boys received $2b$ stickers in total.\n",
      "Each girl received 3 stickers, so the girls received $3g$ stickers in total.\n",
      "The girls received 81 more stickers than the boys, so $3g = 2b + 81$.\n",
      "Substituting $b = 3x$ and $g = 5x$ into the equation $3g = 2b + 81$, we get:\n",
      "$3(5x) = 2(3x) + 81$\n",
      "$15x = 6x + 81$\n",
      "$15x - 6x = 81$\n",
      "$9x = 81$\n",
      "$x = \\frac{81}{9}$\n",
      "$x = 9$\n",
      "Now we can find the number of boys and girls:\n",
      "$b = 3x = 3(9) = 27$\n",
      "$g = 5x = 5(9) = 45$\n",
      "The boys received $2b$ stickers, so they received $2(27) = 54$ stickers.\n",
      "The girls received $3g$ stickers, so they received $3(45) = 135$ stickers.\n",
      "The difference in the number of stickers is $135 - 54 = 81$, which matches the given information.\n",
      "\n",
      "The number of stickers the boys received in total is $2b = 2(27) = 54$.\n",
      "\n",
      "Final Answer: The final answer is $\\boxed{54}$\u001b[0m\n",
      "\n",
      "\u001b[1m> Finished chain.\u001b[0m\n"
     ]
    },
    {
     "data": {
      "text/plain": [
       "{'input': 'The ratio of the number of boys to the number of girls was 3: 5. Each boy was given 2 stickers and each girl was given 3. The girls received 81 more stickers than the boys. How many stickers did the boys receive in total?',\n",
       " 'output': 'The final answer is $\\\\boxed{54}$'}"
      ]
     },
     "execution_count": 19,
     "metadata": {},
     "output_type": "execute_result"
    }
   ],
   "source": [
    "zero_shot_agent(problem)"
   ]
  },
  {
   "cell_type": "markdown",
   "id": "25a13dd9",
   "metadata": {},
   "source": [
    "#### Using multiple Tools\n",
    "Using Duck Duck Go Search API as a Tool combined with the Math Tool We will then give the AGent a problem that initiates a search first followed by a Calculation."
   ]
  },
  {
   "cell_type": "code",
   "execution_count": 5,
   "id": "b530f5ab",
   "metadata": {},
   "outputs": [
    {
     "name": "stderr",
     "output_type": "stream",
     "text": [
      "/var/folders/y_/0dh_vnhx4h9bd_bn8cgqtnd00000gn/T/ipykernel_81269/1216458497.py:12: LangChainDeprecationWarning: This class is deprecated and will be removed in langchain 1.0. See API reference for replacement: https://api.python.langchain.com/en/latest/chains/langchain.chains.llm_math.base.LLMMathChain.html\n",
      "  llm_math_chain = LLMMathChain(llm=llm, verbose=True)\n",
      "/Applications/anaconda3/envs/rag_env/lib/python3.9/site-packages/langchain/chains/llm_math/base.py:175: UserWarning: Directly instantiating an LLMMathChain with an llm is deprecated. Please instantiate with llm_chain argument or using the from_llm class method.\n",
      "  warnings.warn(\n"
     ]
    }
   ],
   "source": [
    "# Define Tools\n",
    "\n",
    "from langchain.tools import DuckDuckGoSearchRun\n",
    "\n",
    "search = DuckDuckGoSearchRun()\n",
    "\n",
    "search_tool = Tool.from_function(\n",
    "    func = search.run,\n",
    "    name = \"Search\",\n",
    "    description = \"Useful for when you need to seach the internet.\"\n",
    ")\n",
    "llm_math_chain = LLMMathChain(llm=llm, verbose=True)\n",
    "math_tool = Tool.from_function(\n",
    "    func = llm_math_chain.run,\n",
    "    name = \"Calculator\",\n",
    "    description = \"Useful for when you need to answer math questions.\"\n",
    ")"
   ]
  },
  {
   "cell_type": "code",
   "execution_count": 10,
   "id": "85c3e1d7",
   "metadata": {},
   "outputs": [],
   "source": [
    "# Define the Agent\n",
    "tools = [search_tool, math_tool]\n",
    "agent = initialize_agent(\n",
    "    tools, \n",
    "    llm, \n",
    "    agent =\"zero-shot-react-description\", \n",
    "    verbose=True\n",
    ")"
   ]
  },
  {
   "cell_type": "code",
   "execution_count": 26,
   "id": "7eebba11",
   "metadata": {},
   "outputs": [
    {
     "name": "stdout",
     "output_type": "stream",
     "text": [
      "\n",
      "\n",
      "\u001b[1m> Entering new AgentExecutor chain...\u001b[0m\n",
      "\u001b[32;1m\u001b[1;3mI need to get the gold prices from Google Finance and convert them to SGD. I will start by searching for the current gold price in USD and then convert it to SGD.\n",
      "Action: Search\n",
      "Action Input: \"current gold price USD google finance\"\u001b[0m\n",
      "Observation: \u001b[36;1m\u001b[1;3mGOLDPRICE.ORG - The number 1 web site for United States spot gold price charts in ounces, grams and kilos. The spot price of gold is the most common standard used to gauge the going rate for a troy ounce of gold. The price is driven by speculation in the markets, currency values, current events, and many other factors. Gold spot price is used as the basis for most bullion dealers to determine the exact price to charge for a specific coin or bar. These prices are calculated in troy ounces and change ... Gold Price in USA Today: per oz 3,371.04 United States dollars. Gold prices for the USA are denominated in American dollars (USD). Live Price of Gold provides daily updates on gold prices across various states in the United States of America. The most current gold price in United States dollar 24,22,18,14,10,6 carat Track the live gold price in USD per ounce and gram. Updated in real time, this page helps users in the USA stay informed with current gold market values. See the live price of gold and find out about how gold prices are influenced. We also explain different weight units used to measure gold.\u001b[0m\n",
      "Thought:\u001b[32;1m\u001b[1;3mThe search result gives me the gold price in USD per ounce. Now I need to find the current USD to SGD exchange rate.\n",
      "Action: Search\n",
      "Action Input: \"USD to SGD exchange rate\"\u001b[0m\n",
      "Observation: \u001b[36;1m\u001b[1;3mConvert United States Dollar to Singapore Dollar with the latest exchange rate and historical data. See the conversion rate, symbol, country and region information for both currencies. This Free Currency Exchange Rates Calculator helps you convert US Dollar to Singapore Dollar from any amount. Get live and historical rates for US dollars to Singapore dollars with OFX, a global money transfer provider. Compare market rates, set alerts, lock in rates and send money online or via app. Current USD to SGD Conversion Rate As of 2025-05-02 23:55:59 UTC, 1 US Dollar (USD) equals 1.296200247 Singapore Dollar (SGD). Use our real-time currency converter to check live rates and historical trends for more accurate and up-to-date conversions. Using the Currency Converter Enter the US Dollar amount and select Singapore Dollar. The tool displays the real-time exchange rate and converts ... The live Dollar to Singapore Dollar exchange rate (USD SGD) as of 4 May 2025 at 2:12 PM.\u001b[0m\n",
      "Thought:\u001b[32;1m\u001b[1;3mI have the gold price in USD and the USD to SGD exchange rate. Now I can calculate the gold price in SGD.\n",
      "Action: Calculator\n",
      "Action Input: 3371.04 * 1.296200247\u001b[0m\n",
      "\n",
      "\u001b[1m> Entering new LLMMathChain chain...\u001b[0m\n",
      "3371.04 * 1.296200247\u001b[32;1m\u001b[1;3m```text\n",
      "3371.04 * 1.296200247\n",
      "```\n",
      "...numexpr.evaluate(\"3371.04 * 1.296200247\")...\u001b[0m\n",
      "Answer: \u001b[33;1m\u001b[1;3m4369.54288064688\u001b[0m\n",
      "\u001b[1m> Finished chain.\u001b[0m\n",
      "\n",
      "Observation: \u001b[33;1m\u001b[1;3mAnswer: 4369.54288064688\u001b[0m\n",
      "Thought:\u001b[32;1m\u001b[1;3mI now know the final answer\n",
      "Final Answer: The current gold price is approximately 4369.54 SGD per ounce.\u001b[0m\n",
      "\n",
      "\u001b[1m> Finished chain.\u001b[0m\n"
     ]
    },
    {
     "data": {
      "text/plain": [
       "'The current gold price is approximately 4369.54 SGD per ounce.'"
      ]
     },
     "execution_count": 26,
     "metadata": {},
     "output_type": "execute_result"
    }
   ],
   "source": [
    "# Run the Agent\n",
    "agent.run(\"\"\"Get Gold Prices taken from google finance and display in SGD.\"\"\")"
   ]
  },
  {
   "cell_type": "code",
   "execution_count": 28,
   "id": "1760cd60",
   "metadata": {},
   "outputs": [
    {
     "name": "stdout",
     "output_type": "stream",
     "text": [
      "\n",
      "\n",
      "\u001b[1m> Entering new AgentExecutor chain...\u001b[0m\n",
      "\u001b[32;1m\u001b[1;3mI need to get the stock price of Tesla from Google Finance and then determine if it's a good time to buy. I will start by searching for the stock price. After getting the stock price, I will need to analyze the information to determine if it's a good time to buy. I will need to look for recent news and analysis related to Tesla's stock.\n",
      "\n",
      "Action: Search\n",
      "Action Input: \"Tesla stock price Google Finance\"\u001b[0m\n",
      "Observation: \u001b[36;1m\u001b[1;3mGet a real-time Tesla, Inc. (TSLA) stock price with an overview of financials, statistics, forecasts, charts and more. Discover real-time Tesla, Inc. Common Stock (TSLA) stock prices, quotes, historical data, news, and Insights for informed trading and investment decisions. Stay ahead with Nasdaq. Track TESLA, INC. (TSLA) price, historical values, financial information, price forecast, and insights to empower your investing journey | MSN Money Tesla (NASDAQ: TSLA) is facing a rough start to 2025, struggling to sustain the momentum that fueled its late 2024 rally. On February 25, Tesla's stock plunged over 8%, closing at $302.80 and dragging its market capitalization below $1 trillion for the first time in months. Tesla's one-day stock price. Source: Google Finance Find the latest historical data for Tesla, Inc. Common Stock (TSLA) at Nasdaq.com. View historical data in a monthly, bi-annual, or yearly format.\u001b[0m\n",
      "Thought:\u001b[32;1m\u001b[1;3mI now have the current stock price of Tesla, which is around $302.80. Now I need to search for recent news and analysis to determine if it's a good time to buy.\n",
      "\n",
      "Action: Search\n",
      "Action Input: \"Tesla stock analysis buy or sell\"\u001b[0m\n",
      "Observation: \u001b[36;1m\u001b[1;3mWe view Tesla shares as fairly valued at current levels, with the stock trading above our $250 fair value estimate but still within our 3-star rating range, indicating a balanced risk/reward ... 41 Wall Street research analysts have issued \"buy,\" \"hold,\" and \"sell\" ratings for Tesla in the last twelve months. There are currently 9 sell ratings, 10 hold ratings, 21 buy ratings and 1 strong buy rating for the stock. The consensus among Wall Street research analysts is that investors should \"hold\" TSLA shares. The company's average rating score is 2.34, and is based on 21 buy ratings, 10 hold ratings, and 9 sell ratings. Amount of Analyst Coverage. Tesla has been the subject of 29 research reports in the past 90 days, demonstrating strong analyst interest in this stock. Read more about Tesla's stock forecast and price target. Even after the sell-off, Tesla stock trades at a high valuation, suggesting the market is still pricing in significant growth that has yet to materialize. Investor Alert: Our 10 best stocks to buy ... Here's an in-depth look at both the technical patterns and fundamental valuation metrics to discern whether Tesla's stock is a strategic buy or a potential sell. 📉 Tesla's Technical Analysis ...\u001b[0m\n",
      "Thought:\u001b[32;1m\u001b[1;3mI have gathered information about Tesla's stock price and analyst ratings. The current stock price is around $302.80. Analyst ratings are mixed, with a consensus of \"hold.\" Some analysts believe the stock is fairly valued or overvalued, while others have \"buy\" ratings. The stock is trading at a high valuation, suggesting the market is pricing in significant growth.\n",
      "\n",
      "Given the mixed analyst ratings, high valuation, and recent stock plunge, it's difficult to definitively say if it's a good time to buy Tesla stock. It depends on your investment strategy and risk tolerance. If you are a long-term investor and believe in Tesla's growth potential, it might be a reasonable entry point. However, if you are risk-averse, you might want to wait for a more favorable valuation or clearer signs of growth.\n",
      "\n",
      "Final Answer: It is difficult to definitively say if it's a good time to buy Tesla stock. Analyst ratings are mixed, and the stock is trading at a high valuation. It depends on your investment strategy and risk tolerance.\u001b[0m\n",
      "\n",
      "\u001b[1m> Finished chain.\u001b[0m\n"
     ]
    },
    {
     "data": {
      "text/plain": [
       "\"It is difficult to definitively say if it's a good time to buy Tesla stock. Analyst ratings are mixed, and the stock is trading at a high valuation. It depends on your investment strategy and risk tolerance.\""
      ]
     },
     "execution_count": 28,
     "metadata": {},
     "output_type": "execute_result"
    }
   ],
   "source": [
    "# Run the Agent\n",
    "agent.run(\"\"\"Get stock price of Tesla taken from google finance determin if its a good time to buy in.\"\"\")"
   ]
  },
  {
   "cell_type": "markdown",
   "id": "42846701",
   "metadata": {},
   "source": [
    "### Create a custom tool"
   ]
  },
  {
   "cell_type": "code",
   "execution_count": 30,
   "id": "fa264d50",
   "metadata": {},
   "outputs": [],
   "source": [
    "from langchain.tools import BaseTool\n",
    "from langchain_core.output_parsers import JsonOutputParser\n",
    "from langchain.tools import tool\n",
    "\n",
    "@tool(\"lower_case\", return_direct=True)\n",
    "def StructuredResponseTool(question:str):\n",
    "    \"\"\"\n",
    "    use this tool to send a prompt and get a JSON returned\n",
    "    with three fields - Topic, Question_Details and Detailed_response\n",
    "    \"\"\"\n",
    "    json_prompt = PromptTemplate.from_template(\n",
    "        \"\"\"\n",
    "        Return a JSON object with an 'answer' key that answers the following question:{question}.\n",
    "        The JSON object will hve threee fields - Topic, Question_Details and Detailed_response.\"\"\"\n",
    "    )\n",
    "\n",
    "    llm = ChatGoogleGenerativeAI(\n",
    "    model=\"gemini-2.0-flash\", \n",
    "    temperature=0.5, \n",
    "    google_api_key=os.getenv(\"GOOGLE_API_KEY\"))\n",
    "\n",
    "    json_parser = JsonOutputParser()\n",
    "    json_chain = json_prompt | model | json_parser\n",
    "    x = json_chain.invoke({\"question\": question})\n",
    "    return x\n"
   ]
  },
  {
   "cell_type": "code",
   "execution_count": 31,
   "id": "4fbf89a5",
   "metadata": {},
   "outputs": [],
   "source": [
    "from langchain_google_genai import ChatGoogleGenerativeAI\n",
    "from langchain.prompts import PromptTemplate\n",
    "from langchain.chains.conversation.memory import ConversationBufferMemory\n",
    "from langchain.agents import initialize_agent"
   ]
  },
  {
   "cell_type": "code",
   "execution_count": 32,
   "id": "9f259ef6",
   "metadata": {},
   "outputs": [],
   "source": [
    "tools= [StructuredResponseTool]\n",
    "\n",
    "# Initialize the agent with the tools\n",
    "zero_shot_agent = initialize_agent(\n",
    "    agent =\"zero-shot-react-description\",\n",
    "    tools=tools,\n",
    "    llm=llm,\n",
    "    verbose=True,\n",
    "    max_iterations=10)"
   ]
  },
  {
   "cell_type": "code",
   "execution_count": 33,
   "id": "cb43f70e",
   "metadata": {},
   "outputs": [
    {
     "name": "stdout",
     "output_type": "stream",
     "text": [
      "\n",
      "\n",
      "\u001b[1m> Entering new AgentExecutor chain...\u001b[0m\n",
      "\u001b[32;1m\u001b[1;3mI need to find the top US stock in the world and explain how it achieved that position. I should use the `lower_case` tool to get the information. The response should have three fields.\n",
      "Action: lower_case\n",
      "Action Input: Which is the top US stock in the world now and how, the response should have three fields Topic, Question_Details and Detailed_response?\u001b[0m\n",
      "Observation: \u001b[36;1m\u001b[1;3m{'Topic': 'US Stock Market', 'Question_Details': 'Identify the top US stock in the world currently and explain the criteria used to determine its ranking.', 'Detailed_response': {'answer': 'Determining the \"top\" US stock depends on the criteria used for evaluation. Here are a few common metrics and the corresponding top contenders, along with explanations:\\n\\n*   **By Market Capitalization:**  As of October 27, 2024 (This date is important as the information changes frequently), **Microsoft (MSFT)** and **Apple (AAPL)** are consistently battling for the top spot in terms of market capitalization. Market capitalization is calculated by multiplying the company\\'s share price by the number of outstanding shares.  Higher market capitalization generally indicates a larger and more valuable company.\\n\\n*   **By Stock Performance (Year-to-Date or Recent Period):** The \"top\" stock based on performance changes constantly.  For example, a smaller growth stock might have significantly higher percentage gains over a shorter period than a mega-cap like Apple or Microsoft. To determine the top performer based on stock performance, you\\'d need to consult financial data providers (e.g., Google Finance, Yahoo Finance, Bloomberg, Refinitiv) and filter by percentage gain over a specific timeframe.\\n\\n*   **By Revenue or Profitability:**  Companies like **Amazon (AMZN)** or **Walmart (WMT)** often lead in terms of revenue.  Profitability can vary widely depending on the sector and economic conditions.  Again, financial data sources are needed to identify the top companies based on these metrics.\\n\\n*   **By Analyst Ratings and Future Growth Potential:** Many investors consider analyst ratings and projected growth when assessing a stock\\'s potential. Companies in sectors like artificial intelligence, cloud computing, and renewable energy often receive high ratings due to their growth prospects. However, these ratings are subjective and based on analysts\\' opinions.\\n\\n**In summary:** There is no single definitive \"top\" US stock.  **Microsoft and Apple are typically considered the leaders based on market capitalization**, but other metrics like stock performance, revenue, profitability, and growth potential can lead to different conclusions.  The best approach is to define your criteria for \"top\" and then research companies that meet those criteria using reliable financial data sources. Always consult a financial professional before making investment decisions.'}}\u001b[0m\n",
      "\u001b[32;1m\u001b[1;3m\u001b[0m\n",
      "\n",
      "\u001b[1m> Finished chain.\u001b[0m\n"
     ]
    },
    {
     "data": {
      "text/plain": [
       "{'Topic': 'US Stock Market',\n",
       " 'Question_Details': 'Identify the top US stock in the world currently and explain the criteria used to determine its ranking.',\n",
       " 'Detailed_response': {'answer': 'Determining the \"top\" US stock depends on the criteria used for evaluation. Here are a few common metrics and the corresponding top contenders, along with explanations:\\n\\n*   **By Market Capitalization:**  As of October 27, 2024 (This date is important as the information changes frequently), **Microsoft (MSFT)** and **Apple (AAPL)** are consistently battling for the top spot in terms of market capitalization. Market capitalization is calculated by multiplying the company\\'s share price by the number of outstanding shares.  Higher market capitalization generally indicates a larger and more valuable company.\\n\\n*   **By Stock Performance (Year-to-Date or Recent Period):** The \"top\" stock based on performance changes constantly.  For example, a smaller growth stock might have significantly higher percentage gains over a shorter period than a mega-cap like Apple or Microsoft. To determine the top performer based on stock performance, you\\'d need to consult financial data providers (e.g., Google Finance, Yahoo Finance, Bloomberg, Refinitiv) and filter by percentage gain over a specific timeframe.\\n\\n*   **By Revenue or Profitability:**  Companies like **Amazon (AMZN)** or **Walmart (WMT)** often lead in terms of revenue.  Profitability can vary widely depending on the sector and economic conditions.  Again, financial data sources are needed to identify the top companies based on these metrics.\\n\\n*   **By Analyst Ratings and Future Growth Potential:** Many investors consider analyst ratings and projected growth when assessing a stock\\'s potential. Companies in sectors like artificial intelligence, cloud computing, and renewable energy often receive high ratings due to their growth prospects. However, these ratings are subjective and based on analysts\\' opinions.\\n\\n**In summary:** There is no single definitive \"top\" US stock.  **Microsoft and Apple are typically considered the leaders based on market capitalization**, but other metrics like stock performance, revenue, profitability, and growth potential can lead to different conclusions.  The best approach is to define your criteria for \"top\" and then research companies that meet those criteria using reliable financial data sources. Always consult a financial professional before making investment decisions.'}}"
      ]
     },
     "execution_count": 33,
     "metadata": {},
     "output_type": "execute_result"
    }
   ],
   "source": [
    "zero_shot_agent.run(input=\"Which is the top us stock in the world now and how, the response should have three field?\")"
   ]
  },
  {
   "cell_type": "markdown",
   "id": "47681b9f",
   "metadata": {},
   "source": [
    "{'Topic': 'US Stock Market',\n",
    " 'Question_Details': 'Identify the top US stock in the world currently and explain the criteria used to determine its ranking.',\n",
    " 'Detailed_response': {'answer': 'Determining the \"top\" US stock depends on the criteria used for evaluation. Here are a few common metrics and the corresponding top contenders, along with explanations:\\n\\n*   \n",
    " \n",
    " **By Market Capitalization:**  As of October 27, 2024 (This date is important as the information changes frequently), \n",
    " \n",
    " **Microsoft (MSFT)** and \n",
    " \n",
    " **Apple (AAPL)** are consistently battling for the top spot in terms of market capitalization. Market capitalization is calculated by multiplying the company\\'s share price by the number of outstanding shares.  Higher market capitalization generally indicates a larger and more valuable company.\\n\\n*   \n",
    " \n",
    " **By Stock Performance (Year-to-Date or Recent Period):** The \"top\" stock based on performance changes constantly.  For example, a smaller growth stock might have significantly higher percentage gains over a shorter period than a mega-cap like Apple or Microsoft. To determine the top performer based on stock performance, you\\'d need to consult financial data providers (e.g., Google Finance, Yahoo Finance, Bloomberg, Refinitiv) and filter by percentage gain over a specific timeframe.\\n\\n*  \n",
    " \n",
    "  **By Revenue or Profitability:**  Companies like **Amazon (AMZN)** or **Walmart (WMT)** often lead in terms of revenue.  Profitability can vary widely depending on the sector and economic conditions.  Again, financial data sources are needed to identify the top companies based on these metrics.\\n\\n*   \n",
    "  \n",
    "  **By Analyst Ratings and Future Growth Potential:** Many investors consider analyst ratings and projected growth when assessing a stock\\'s potential. Companies in sectors like artificial intelligence, cloud computing, and renewable energy often receive high ratings due to their growth prospects. However, these ratings are subjective and based on analysts\\' opinions.\\n\\n\n",
    "  \n",
    "  **In summary:** There is no single definitive \"top\" US stock.  \n",
    "  \n",
    "  **Microsoft and Apple are typically considered the leaders based on market capitalization**, but other metrics like stock performance, revenue, profitability, and growth potential can lead to different conclusions.  The best approach is to define your criteria for \"top\" and then research companies that meet those criteria using reliable financial data sources. Always consult a financial professional before making investment decisions.'}}"
   ]
  },
  {
   "cell_type": "code",
   "execution_count": null,
   "id": "97c9a846",
   "metadata": {},
   "outputs": [],
   "source": []
  }
 ],
 "metadata": {
  "kernelspec": {
   "display_name": "rag_env",
   "language": "python",
   "name": "python3"
  },
  "language_info": {
   "codemirror_mode": {
    "name": "ipython",
    "version": 3
   },
   "file_extension": ".py",
   "mimetype": "text/x-python",
   "name": "python",
   "nbconvert_exporter": "python",
   "pygments_lexer": "ipython3",
   "version": "3.9.21"
  }
 },
 "nbformat": 4,
 "nbformat_minor": 5
}
