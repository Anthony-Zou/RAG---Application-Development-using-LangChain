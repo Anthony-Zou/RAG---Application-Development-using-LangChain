{
 "cells": [
  {
   "cell_type": "markdown",
   "id": "ba530240",
   "metadata": {},
   "source": [
    "# Testing Google Generative AI Embeddings\n",
    "\n",
    "This notebook tests the proper initialization of GoogleGenerativeAIEmbeddings."
   ]
  },
  {
   "cell_type": "code",
   "execution_count": null,
   "id": "2ded898a",
   "metadata": {},
   "outputs": [],
   "source": [
    "from dotenv import load_dotenv\n",
    "load_dotenv()\n",
    "import os"
   ]
  },
  {
   "cell_type": "code",
   "execution_count": null,
   "id": "d43fa933",
   "metadata": {},
   "outputs": [],
   "source": [
    "from langchain_google_genai import GoogleGenerativeAIEmbeddings\n",
    "\n",
    "# Correct initialization using 'model' parameter\n",
    "embeddings = GoogleGenerativeAIEmbeddings(\n",
    "    model=\"models/embedding-001\",\n",
    "    google_api_key=os.getenv(\"GOOGLE_API_KEY\")\n",
    ")"
   ]
  },
  {
   "cell_type": "code",
   "execution_count": null,
   "id": "dab999a2",
   "metadata": {},
   "outputs": [],
   "source": [
    "# Test the embeddings with a simple text\n",
    "text = \"This is a test sentence for embeddings.\"\n",
    "embedding = embeddings.embed_query(text)\n",
    "\n",
    "# Print the length of the embedding vector\n",
    "print(f\"Embedding dimension: {len(embedding)}\")"
   ]
  },
  {
   "cell_type": "markdown",
   "id": "416c9770",
   "metadata": {},
   "source": [
    "## Testing Simple RAG Example\n",
    "\n",
    "Now let's test a simple RAG application using the correct embeddings."
   ]
  },
  {
   "cell_type": "code",
   "execution_count": null,
   "id": "95c44d58",
   "metadata": {},
   "outputs": [],
   "source": [
    "from langchain_community.vectorstores import FAISS\n",
    "from langchain_google_genai import ChatGoogleGenerativeAI\n",
    "from langchain.chains.combine_documents import create_stuff_documents_chain\n",
    "from langchain.prompts import ChatPromptTemplate\n",
    "from langchain.chains import create_retrieval_chain\n",
    "\n",
    "# Create sample documents\n",
    "from langchain_core.documents import Document\n",
    "docs = [\n",
    "    Document(page_content=\"LangChain is a framework for developing applications powered by language models.\", metadata={\"source\": \"docs\"}),\n",
    "    Document(page_content=\"RAG stands for Retrieval Augmented Generation.\", metadata={\"source\": \"docs\"}),\n",
    "    Document(page_content=\"Embeddings are vector representations of text.\", metadata={\"source\": \"docs\"})\n",
    "]"
   ]
  },
  {
   "cell_type": "code",
   "execution_count": null,
   "id": "7102a058",
   "metadata": {},
   "outputs": [],
   "source": [
    "# Create the vector store\n",
    "vector_store = FAISS.from_documents(docs, embeddings)\n",
    "\n",
    "# Initialize LLM\n",
    "llm = ChatGoogleGenerativeAI(\n",
    "    model=\"gemini-2.0-flash\",\n",
    "    temperature=0.0,\n",
    "    google_api_key=os.getenv(\"GOOGLE_API_KEY\")\n",
    ")\n",
    "\n",
    "# Create the prompt\n",
    "prompt = ChatPromptTemplate.from_template(\n",
    "    \"\"\"Answer the following question based on the context below.\n",
    "    <context>\n",
    "    {context}\n",
    "    </context>\n",
    "    \n",
    "    Question: {input}\n",
    "    If the question is not answerable based on the context, say \"I don't know\".\"\"\"\n",
    ")\n",
    "\n",
    "# Create the document chain\n",
    "document_chain = create_stuff_documents_chain(llm, prompt)\n",
    "\n",
    "# Create retrieval chain\n",
    "retriever = vector_store.as_retriever()\n",
    "retrieval_chain = create_retrieval_chain(retriever, document_chain)"
   ]
  },
  {
   "cell_type": "code",
   "execution_count": null,
   "id": "35a815e9",
   "metadata": {},
   "outputs": [],
   "source": [
    "# Test the retrieval chain\n",
    "response = retrieval_chain.invoke({\"input\": \"What is LangChain?\"})\n",
    "print(response[\"answer\"])"
   ]
  }
 ],
 "metadata": {
  "kernelspec": {
   "display_name": "RAG_LangChain-uzjgpzir",
   "language": "python",
   "name": "python3"
  },
  "language_info": {
   "name": "python",
   "version": "3.8.5"
  }
 },
 "nbformat": 4,
 "nbformat_minor": 5
}
