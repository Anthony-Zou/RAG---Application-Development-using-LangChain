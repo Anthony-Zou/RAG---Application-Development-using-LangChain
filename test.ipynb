{
 "cells": [],
 "metadata": {
  "kernelspec": {
   "display_name": "RAG_LangChain-uzjgpzir",
   "language": "python",
   "name": "python3"
  },
  "language_info": {
   "name": "python",
   "version": "3.8.5"
  }
 },
 "nbformat": 4,
 "nbformat_minor": 5
}
