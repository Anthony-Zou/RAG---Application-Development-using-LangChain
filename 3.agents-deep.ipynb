{
 "cells": [
  {
   "cell_type": "markdown",
   "id": "986c5c9d",
   "metadata": {},
   "source": [
    "### Getting a bit more deeper into Agents\n",
    "#### Conversational ReAct Agents\n",
    "This agent is designed for us in conversational settings. It incorporates the React framework to determine which tool to use and utilizes memory to remember pervious conversation interactions."
   ]
  },
  {
   "cell_type": "code",
   "execution_count": 13,
   "id": "91057b46",
   "metadata": {},
   "outputs": [],
   "source": [
    "from langchain.agents import create_react_agent, load_tools, initialize_agent\n",
    "from langchain.memory import ConversationBufferMemory\n",
    "from dotenv import load_dotenv\n",
    "from langchain_google_genai import ChatGoogleGenerativeAI\n",
    "load_dotenv()\n",
    "import os\n",
    "\n",
    "llm = ChatGoogleGenerativeAI(\n",
    "    model=\"gemini-2.0-flash\", \n",
    "    temperature=0.5, \n",
    "    google_api_key=os.getenv(\"GOOGLE_API_KEY\"))"
   ]
  },
  {
   "cell_type": "code",
   "execution_count": 14,
   "id": "b3b90105",
   "metadata": {},
   "outputs": [],
   "source": [
    "tools = load_tools([\"llm-math\"], llm=llm)"
   ]
  },
  {
   "cell_type": "code",
   "execution_count": 15,
   "id": "a6c016fb",
   "metadata": {},
   "outputs": [],
   "source": [
    "memory = ConversationBufferMemory(memory_key=\"chat_history\")\n",
    "\n",
    "conversational_agent = initialize_agent(\n",
    "    agent=\"conversational-react-description\",\n",
    "    tools=tools,\n",
    "    llm=llm,\n",
    "    verbose=True,\n",
    "    memory=memory,\n",
    "    max_iterations=3)"
   ]
  },
  {
   "cell_type": "code",
   "execution_count": 16,
   "id": "56bb4065",
   "metadata": {},
   "outputs": [
    {
     "name": "stdout",
     "output_type": "stream",
     "text": [
      "\n",
      "\n",
      "\u001b[1m> Entering new AgentExecutor chain...\u001b[0m\n",
      "\u001b[32;1m\u001b[1;3m```\n",
      "Thought: Do I need to use a tool? Yes\n",
      "Action: Calculator\n",
      "Action Input: 7+9\u001b[0m\n",
      "Observation: \u001b[36;1m\u001b[1;3mAnswer: 16\u001b[0m\n",
      "Thought:\u001b[32;1m\u001b[1;3mDo I need to use a tool? No\n",
      "AI: The result of adding 7 to 9 is 16.\n",
      "```\u001b[0m\n",
      "\n",
      "\u001b[1m> Finished chain.\u001b[0m\n",
      "\n",
      "\n",
      "\u001b[1m> Entering new AgentExecutor chain...\u001b[0m\n",
      "\u001b[32;1m\u001b[1;3m```\n",
      "Thought: Do I need to use a tool? Yes\n",
      "Action: Calculator\n",
      "Action Input: 16+5\u001b[0m\n",
      "Observation: \u001b[36;1m\u001b[1;3mAnswer: 21\u001b[0m\n",
      "Thought:\u001b[32;1m\u001b[1;3mDo I need to use a tool? No\n",
      "AI: The result of adding 5 to the previous result (16) is 21.\u001b[0m\n",
      "\n",
      "\u001b[1m> Finished chain.\u001b[0m\n"
     ]
    }
   ],
   "source": [
    "output_1=conversational_agent.run(\"Add 7 to 9 and tell me the result.\")\n",
    "output_2=conversational_agent.run(\"Add 5 to the previous result\")"
   ]
  },
  {
   "cell_type": "markdown",
   "id": "d02e900e",
   "metadata": {},
   "source": [
    "#### ReAct Docstore\n",
    "\n",
    "This agent utilizes the React framwork to communicate with a docstore. It requires the availability of a Search tool and a Lookup tool with identical names. The search tool is used to search for a document, while the Lookup tool looks up a term within the most recently found document.\n",
    "\n",
    "A docstore in Langchain is essentially a storage system for documents. It provides a way for Langchain agents to access and interact with information. Like a Library"
   ]
  },
  {
   "cell_type": "code",
   "execution_count": 17,
   "id": "cd9cafb2",
   "metadata": {},
   "outputs": [],
   "source": [
    "from langchain.agents import initialize_agent, Tool\n",
    "from langchain import Wikipedia\n",
    "from langchain.agents.react.base import DocstoreExplorer"
   ]
  },
  {
   "cell_type": "code",
   "execution_count": 21,
   "id": "2f61d130",
   "metadata": {},
   "outputs": [],
   "source": [
    "docstore = DocstoreExplorer(Wikipedia())\n",
    "tools=[\n",
    "    Tool(name=\"Search\", func=docstore.search, description=\"A search engine that can be used to find information on Wikipedia.\"),\n",
    "    Tool(name=\"Lookup\", func=docstore.lookup, description=\"A search engine that can be used to find information on Wikipedia.\")\n",
    "]\n",
    "\n",
    "# Initialize the agent \n",
    "llm = ChatGoogleGenerativeAI(\n",
    "    model=\"gemini-2.0-flash\", \n",
    "    temperature=0.5, \n",
    "    google_api_key=os.getenv(\"GOOGLE_API_KEY\"))\n",
    "    \n",
    "docstore_agent = initialize_agent(\n",
    "    tools,\n",
    "    llm,\n",
    "    agent=\"react-docstore\",\n",
    "    verbose=True,\n",
    "    max_iterations=8,\n",
    "    handle_parsing_errors=True)"
   ]
  },
  {
   "cell_type": "code",
   "execution_count": 22,
   "id": "a0413523",
   "metadata": {},
   "outputs": [
    {
     "name": "stderr",
     "output_type": "stream",
     "text": [
      "/var/folders/y_/0dh_vnhx4h9bd_bn8cgqtnd00000gn/T/ipykernel_38212/836576075.py:1: LangChainDeprecationWarning: The method `Chain.__call__` was deprecated in langchain 0.1.0 and will be removed in 1.0. Use :meth:`~invoke` instead.\n",
      "  docstore_agent(\"Tell me a few key things about Mahatma Gandhi.\")\n"
     ]
    },
    {
     "name": "stdout",
     "output_type": "stream",
     "text": [
      "\n",
      "\n",
      "\u001b[1m> Entering new AgentExecutor chain...\u001b[0m\n",
      "\u001b[32;1m\u001b[1;3mThought: The question asks for a few key things about Mahatma Gandhi. I need to search Mahatma Gandhi and find a few key things about him.\n",
      "Action: Search[Mahatma Gandhi]\u001b[0m\n",
      "Observation: \u001b[36;1m\u001b[1;3mMohandas Karamchand Gandhi (2 October 1869 – 30 January 1948) was an Indian lawyer, anti-colonial nationalist, and political ethicist who employed nonviolent resistance to lead the successful campaign for India's independence from British rule. He inspired movements for civil rights and freedom across the world. The honorific Mahātmā (from Sanskrit, meaning great-souled, or venerable), first applied to him in South Africa in 1914, is now used throughout the world.\n",
      "Born and raised in a Hindu family in coastal Gujarat, Gandhi trained in the law at the Inner Temple in London and was called to the bar at the age of 22. After two uncertain years in India, where he was unable to start a successful law practice, Gandhi moved to South Africa in 1893 to represent an Indian merchant in a lawsuit. He went on to live in South Africa for 21 years. Here, Gandhi raised a family and first employed nonviolent resistance in a campaign for civil rights. In 1915, aged 45, he returned to India and soon set about organising peasants, farmers, and urban labourers to protest against discrimination and excessive land tax.\n",
      "Assuming leadership of the Indian National Congress in 1921, Gandhi led nationwide campaigns for easing poverty, expanding women's rights, building religious and ethnic amity, ending untouchability, and, above all, achieving swaraj or self-rule. Gandhi adopted the short dhoti woven with hand-spun yarn as a mark of identification with India's rural poor. He began to live in a self-sufficient residential community, to eat simple food, and undertake long fasts as a means of both introspection and political protest. Bringing anti-colonial nationalism to the common Indians, Gandhi led them in challenging the British-imposed salt tax with the 400 km (250 mi) Dandi Salt March in 1930 and in calling for the British to quit India in 1942. He was imprisoned many times and for many years in both South Africa and India.\n",
      "Gandhi's vision of an independent India based on religious pluralism was challenged in the early 1940s by a Muslim nationalism which demanded a separate homeland for Muslims within British India. In August 1947, Britain granted independence, but the British Indian Empire was partitioned into two dominions, a Hindu-majority India and a Muslim-majority Pakistan. As many displaced Hindus, Muslims, and Sikhs made their way to their new lands, religious violence broke out, especially in the Punjab and Bengal. Abstaining from the official celebration of independence, Gandhi visited the affected areas, attempting to alleviate distress. In the months following, he undertook several hunger strikes to stop the religious violence. The last of these was begun in Delhi on 12 January 1948, when Gandhi was 78. The belief that Gandhi had been too resolute in his defence of both Pakistan and Indian Muslims spread among some Hindus in India. Among these was Nathuram Godse, a militant Hindu nationalist from Pune, western India, who assassinated Gandhi by firing three bullets into his chest at an interfaith prayer meeting in Delhi on 30 January 1948.\n",
      "Gandhi's birthday, 2 October, is commemorated in India as Gandhi Jayanti, a national holiday, and worldwide as the International Day of Nonviolence. Gandhi is considered to be the Father of the Nation in post-colonial India. During India's nationalist movement and in several decades immediately after, he was also commonly called Bapu, an endearment roughly meaning \"father\".\u001b[0m\n",
      "Thought:\u001b[32;1m\u001b[1;3mCould not parse LLM Output: Here are a few key things about Mahatma Gandhi:\n",
      "\n",
      "*   He was an Indian lawyer, anti-colonial nationalist, and political ethicist.\n",
      "*   He employed nonviolent resistance to lead the successful campaign for India's independence from British rule.\n",
      "*   He is considered the Father of the Nation in India.\n",
      "*   He was assassinated on January 30, 1948, by a Hindu nationalist.\n",
      "For troubleshooting, visit: https://python.langchain.com/docs/troubleshooting/errors/OUTPUT_PARSING_FAILURE \u001b[0m\n",
      "Observation: Invalid or incomplete response\n",
      "Thought:\u001b[32;1m\u001b[1;3mCould not parse LLM Output: Here are a few key things about Mahatma Gandhi:\n",
      "\n",
      "*   He was an Indian lawyer, anti-colonial nationalist, and political ethicist.\n",
      "*   He employed nonviolent resistance to lead the successful campaign for India's independence from British rule.\n",
      "*   He is considered the Father of the Nation in India.\n",
      "*   He was assassinated on January 30, 1948, by a Hindu nationalist.\n",
      "For troubleshooting, visit: https://python.langchain.com/docs/troubleshooting/errors/OUTPUT_PARSING_FAILURE \u001b[0m\n",
      "Observation: Invalid or incomplete response\n",
      "Thought:\u001b[32;1m\u001b[1;3mCould not parse LLM Output: Here are a few key things about Mahatma Gandhi:\n",
      "\n",
      "* He was an Indian lawyer, anti-colonial nationalist, and political ethicist.\n",
      "* He employed nonviolent resistance to lead the successful campaign for India's independence from British rule.\n",
      "* He is considered the Father of the Nation in India.\n",
      "* He was assassinated on January 30, 1948, by a Hindu nationalist.\n",
      "For troubleshooting, visit: https://python.langchain.com/docs/troubleshooting/errors/OUTPUT_PARSING_FAILURE \u001b[0m\n",
      "Observation: Invalid or incomplete response\n",
      "Thought:\u001b[32;1m\u001b[1;3mHe was an Indian lawyer, anti-colonial nationalist, and political ethicist, he employed nonviolent resistance to lead the successful campaign for India's independence from British rule, he is considered the Father of the Nation in India, and he was assassinated on January 30, 1948, by a Hindu nationalist.\n",
      "Action: Finish[He was an Indian lawyer, anti-colonial nationalist, and political ethicist, he employed nonviolent resistance to lead the successful campaign for India's independence from British rule, he is considered the Father of the Nation in India, and he was assassinated on January 30, 1948, by a Hindu nationalist.]\u001b[0m\n",
      "\n",
      "\u001b[1m> Finished chain.\u001b[0m\n"
     ]
    },
    {
     "data": {
      "text/plain": [
       "{'input': 'Tell me a few key things about Mahatma Gandhi.',\n",
       " 'output': \"He was an Indian lawyer, anti-colonial nationalist, and political ethicist, he employed nonviolent resistance to lead the successful campaign for India's independence from British rule, he is considered the Father of the Nation in India, and he was assassinated on January 30, 1948, by a Hindu nationalist.\"}"
      ]
     },
     "execution_count": 22,
     "metadata": {},
     "output_type": "execute_result"
    }
   ],
   "source": [
    "docstore_agent(\"Tell me a few key things about Mahatma Gandhi.\")"
   ]
  },
  {
   "cell_type": "markdown",
   "id": "5088e6c3",
   "metadata": {},
   "source": [
    "{'input': 'Tell me a few key things about Mahatma Gandhi.',\n",
    " 'output': \"He was an Indian lawyer, anti-colonial nationalist, and political ethicist, he employed nonviolent resistance to lead the successful campaign for India's independence from British rule, he is considered the Father of the Nation in India, and he was assassinated on January 30, 1948, by a Hindu nationalist.\"}"
   ]
  },
  {
   "cell_type": "markdown",
   "id": "2211b7d4",
   "metadata": {},
   "source": [
    "##### Self-ask with Search\n",
    "This agent utilizes the Intermediate Answer tool for self-asking questions.\n",
    "Allows LLM to give answers to a question it was not explicitly trained on. The model might not have the direct answer to a question, but answers to sub-questions will exist in the LLM dataset. It achieves this by obtaining Intermediate Answers."
   ]
  },
  {
   "cell_type": "code",
   "execution_count": 24,
   "id": "43830a1a",
   "metadata": {},
   "outputs": [],
   "source": [
    "from langchain.tools import DuckDuckGoSearchRun\n",
    "search = DuckDuckGoSearchRun()\n",
    "tools =[\n",
    "    Tool(\n",
    "        func=search.run,\n",
    "        name=\"Intermediate Answer\",\n",
    "        description=\"A search engine that can be used to find information on the web.\"\n",
    "    )\n",
    "]\n",
    "agent = initialize_agent(\n",
    "    tools,\n",
    "    llm,\n",
    "    agent=\"self-ask-with-search\",\n",
    "    verbose=True,\n",
    "    handle_parsing_errors=True\n",
    ")"
   ]
  },
  {
   "cell_type": "code",
   "execution_count": 25,
   "id": "5a4d5181",
   "metadata": {},
   "outputs": [
    {
     "name": "stdout",
     "output_type": "stream",
     "text": [
      "\n",
      "\n",
      "\u001b[1m> Entering new AgentExecutor chain...\u001b[0m\n",
      "\u001b[32;1m\u001b[1;3mYes.\n",
      "Follow up: When did the first moon landing take place?\u001b[0m\n",
      "Intermediate answer: \u001b[36;1m\u001b[1;3mThe Luna programme was the first successful lunar programme, its Luna 1 (1959) being the first partially successful lunar mission The first image taken of the far side of the Moon, returned by Luna 3 (1959). Missions to the Moon have been numerous and include some of the earliest space missions, conducting exploration of the Moon since 1959.. The first partially successful lunar mission was ... Watch highlights from the Apollo 11 mission including the launch on July 16, 1969, the landing of the lunar module, Neil Armstrong's first steps on the Moon, splashdown, and more. Watch on NASA+ 20 July 1969—Astronaut Edwin E. Aldrin Jr., lunar module pilot, walks on the surface of the moon near the leg of the Lunar Module (LM) \"Eagle ... Witness Neil Armstrong take humankind's first steps on the lunar surface during NASA's Apollo 11 mission Perhaps the most famous of all space films, these clips document the arrival of the first human beings on the Moon during the afternoon of July 20, 1969. They comprise footage of the landing of the Apollo 11 spacecraft, taken with a 16-mm camera mounted in Edwin Aldrin's window, and Neil ... In July 1969, Apollo 11 astronauts Neil A. Armstrong, Michael Collins, and Edwin E. \"Buzz\" Aldrin completed humanity's first landing on the Moon. They fulfilled President John F. Kennedy's national goal , set in May 1961, to land a man on the Moon and return him safely to the Earth before the end of the decade. The Apollo 11 moon landing in July 1969 was the culmination of the Space Race between the United States and the Soviet Union and a defining moment of the 20th century. Inspired by the bold vision of President John F. Kennedy, who in 1961 called for America to land a man on the moon and return him safely to Earth before the end of the decade ...\u001b[0m\n",
      "\u001b[32;1m\u001b[1;3mFollow up: Who was the president of the USA in July 1969?\u001b[0m\n",
      "Intermediate answer: \u001b[36;1m\u001b[1;3mThe White House, official residence of the president of the United States. The president of the United States is the head of state and head of government of the United States, [1] indirectly elected to a four-year term via the Electoral College. [2] Under the U.S. Constitution, the officeholder leads the executive branch of the federal government and is the commander-in-chief of the United ... Here is a list of the presidents and vice presidents of the United States along with their parties and dates in office. ... Updated on July 21, 2024. Close. Key Takeaways. ... 1963-1969: Richard Milhous Nixon: Spiro T. Agnew, Gerald Rudolph Ford: Republican: 1969-1974: Agnew was Vice President to Richard M. Nixon from 1969 until 1973. In 1973 he resigned following accusations of bribery, tax evasion and extortion. He was Governor of Maryland from 1967 until his election as Vice President. Lyndon B. Johnson was President of the USA from 1963 until 1969 and Jimmy Carter was President from 1977 until 1981. In 1969, the president of the United States was Richard Nixon, who took office on January 20, 1969, after winning the 1968 election. Nixon's presidency marked a significant period in American politics characterized by both domestic challenges and significant foreign policy initiatives. ... In July 1969, the Nixon administration celebrated the ... Take a closer look at America's presidents, from foundational figures to modern leaders, each bringing their vision, policies, and character to the White House. ... July 9, 1850. Whig. 1848 ...\u001b[0m\n",
      "\u001b[32;1m\u001b[1;3mSo the final answer is: Richard Nixon\u001b[0m\n",
      "\n",
      "\u001b[1m> Finished chain.\u001b[0m\n",
      "{'input': 'Question: Who was the president of USA when the first Moom landing took place?', 'output': 'Richard Nixon'}\n"
     ]
    }
   ],
   "source": [
    "print(agent.invoke(\"Question: Who was the president of USA when the first Moom landing took place?\"))"
   ]
  },
  {
   "cell_type": "code",
   "execution_count": null,
   "id": "afc410dd",
   "metadata": {},
   "outputs": [],
   "source": []
  }
 ],
 "metadata": {
  "kernelspec": {
   "display_name": "rag_env",
   "language": "python",
   "name": "python3"
  },
  "language_info": {
   "codemirror_mode": {
    "name": "ipython",
    "version": 3
   },
   "file_extension": ".py",
   "mimetype": "text/x-python",
   "name": "python",
   "nbconvert_exporter": "python",
   "pygments_lexer": "ipython3",
   "version": "3.9.21"
  }
 },
 "nbformat": 4,
 "nbformat_minor": 5
}
