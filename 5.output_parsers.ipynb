{
 "cells": [
  {
   "cell_type": "markdown",
   "id": "20112a3d",
   "metadata": {},
   "source": [
    "**Output Parsers**\n",
    "Transform the output of LLM into a more suitable format. "
   ]
  },
  {
   "cell_type": "code",
   "execution_count": 4,
   "id": "20078ce4",
   "metadata": {},
   "outputs": [],
   "source": [
    "from langchain.output_parsers import CommaSeparatedListOutputParser\n",
    "from langchain.prompts import PromptTemplate\n",
    "from langchain_google_genai import ChatGoogleGenerativeAI\n",
    "\n",
    "import os\n",
    "\n",
    "llm = ChatGoogleGenerativeAI(\n",
    "    model=\"gemini-2.0-flash\", \n",
    "    temperature=0, \n",
    "    google_api_key=os.getenv(\"GOOGLE_API_KEY\"))"
   ]
  },
  {
   "cell_type": "markdown",
   "id": "fd44812b",
   "metadata": {},
   "source": [
    "**CSV Parser**"
   ]
  },
  {
   "cell_type": "code",
   "execution_count": 6,
   "id": "46a68189",
   "metadata": {},
   "outputs": [],
   "source": [
    "output_parser = CommaSeparatedListOutputParser()\n",
    "format_instructions = output_parser.get_format_instructions()\n",
    "prompt = PromptTemplate(\n",
    "    template=\"List five places {places}. \\n {format_instructions}\",\n",
    "        input_variables=[\"places\"],\n",
    "        partial_variables={\"format_instructions\": format_instructions},\n",
    ")"
   ]
  },
  {
   "cell_type": "code",
   "execution_count": 7,
   "id": "3f859581",
   "metadata": {},
   "outputs": [],
   "source": [
    "chain = prompt | llm | output_parser"
   ]
  },
  {
   "cell_type": "code",
   "execution_count": null,
   "id": "89f5b0da",
   "metadata": {},
   "outputs": [
    {
     "data": {
      "text/plain": [
       "['Times Square (New York City)',\n",
       " 'Sydney Harbour (Sydney)',\n",
       " 'The London Eye (London)',\n",
       " 'Copacabana Beach (Rio de Janeiro)',\n",
       " 'Shibuya Crossing (Tokyo)']"
      ]
     },
     "execution_count": 13,
     "metadata": {},
     "output_type": "execute_result"
    }
   ],
   "source": [
    "chain.invoke({\"places\": \"End year countdown to visit on New Year's Eve\"})"
   ]
  },
  {
   "cell_type": "markdown",
   "id": "62935a50",
   "metadata": {},
   "source": [
    "**JSON parser**"
   ]
  },
  {
   "cell_type": "code",
   "execution_count": 28,
   "id": "fdf1e1bf",
   "metadata": {},
   "outputs": [],
   "source": [
    "from typing import List\n",
    "from langchain_core.output_parsers import JsonOutputParser\n",
    "from pydantic import BaseModel, Field\n"
   ]
  },
  {
   "cell_type": "code",
   "execution_count": 29,
   "id": "c4ae0d1c",
   "metadata": {},
   "outputs": [],
   "source": [
    "class Travel(BaseModel):\n",
    "    places: str = Field(description=\"List of places to visit on New Year's Eve\")\n",
    "    description: str = Field(description=\"Description of the places\")\n",
    "    activities: str = Field(description=\"Activities to do in the places\")"
   ]
  },
  {
   "cell_type": "code",
   "execution_count": 31,
   "id": "08d2e8f0",
   "metadata": {},
   "outputs": [
    {
     "data": {
      "text/plain": [
       "{'places': 'New York City, Sydney, London, Las Vegas, Paris',\n",
       " 'description': \"Iconic cities known for their spectacular New Year's Eve celebrations.\",\n",
       " 'activities': 'Fireworks displays, concerts, parties, street celebrations, and fine dining.'}"
      ]
     },
     "execution_count": 31,
     "metadata": {},
     "output_type": "execute_result"
    }
   ],
   "source": [
    "travel_query = \"List five places to visit on New Year's Eve\"\n",
    "\n",
    "parser = JsonOutputParser(pydantic_object=Travel)\n",
    "\n",
    "prompt = PromptTemplate(\n",
    "    template=\"Answer the user query. \\n {format_instructions}\\n {query}.\\n \",\n",
    "    input_variables=[\"query\"],\n",
    "    partial_variables={\"format_instructions\": parser.get_format_instructions()},\n",
    ")\n",
    "chain = prompt | llm | parser\n",
    "chain.invoke({\"query\": travel_query})"
   ]
  },
  {
   "cell_type": "markdown",
   "id": "1d5c37f9",
   "metadata": {},
   "source": [
    "**Without Pydantic**"
   ]
  },
  {
   "cell_type": "code",
   "execution_count": 33,
   "id": "854f7a0f",
   "metadata": {},
   "outputs": [
    {
     "data": {
      "text/plain": [
       "{'new_years_eve_destinations': [{'place': 'New York City, USA',\n",
       "   'description': 'Experience the iconic ball drop in Times Square, attend a star-studded concert, or enjoy a dazzling fireworks display over the harbor.'},\n",
       "  {'place': 'Sydney, Australia',\n",
       "   'description': 'Witness the spectacular fireworks show over the Sydney Harbour Bridge and Opera House, one of the first major celebrations to ring in the New Year.'},\n",
       "  {'place': 'London, England',\n",
       "   'description': 'Enjoy the vibrant atmosphere of London with its impressive fireworks display over the Thames, lively street parties, and festive pub celebrations.'},\n",
       "  {'place': 'Paris, France',\n",
       "   'description': \"Celebrate in the City of Lights with a romantic dinner cruise on the Seine, a dazzling light show at the Arc de Triomphe, or a festive party in one of the city's many clubs.\"},\n",
       "  {'place': 'Reykjavik, Iceland',\n",
       "   'description': \"Experience a unique New Year's Eve with bonfires, fireworks set off by locals, and the chance to see the Northern Lights dance across the sky.\"}]}"
      ]
     },
     "execution_count": 33,
     "metadata": {},
     "output_type": "execute_result"
    }
   ],
   "source": [
    "travel_query = \"List five places to visit on New Year's Eve\"\n",
    "parser = JsonOutputParser()\n",
    "prompt = PromptTemplate(\n",
    "    template=\"Answer the user query. \\n {format_instructions}\\n {query}.\\n \",\n",
    "    input_variables=[\"query\"],\n",
    "    partial_variables={\"format_instructions\": parser.get_format_instructions()},\n",
    ")\n",
    "chain = prompt | llm | parser\n",
    "chain.invoke({\"query\": travel_query})\n"
   ]
  },
  {
   "cell_type": "markdown",
   "id": "46ac97cb",
   "metadata": {},
   "source": [
    "**Structured Output Parser**"
   ]
  },
  {
   "cell_type": "code",
   "execution_count": 34,
   "id": "4cc2ce80",
   "metadata": {},
   "outputs": [],
   "source": [
    "from langchain.output_parsers import ResponseSchema, StructuredOutputParser\n"
   ]
  },
  {
   "cell_type": "code",
   "execution_count": 41,
   "id": "8d9ab63e",
   "metadata": {},
   "outputs": [
    {
     "data": {
      "text/plain": [
       "{'answer': 'While pinpointing completely \"unexplored\" inventions is difficult (as many ideas are in development or conceptual stages), here are a few areas in fintech with significant potential for groundbreaking innovation in the 21st century, that are either in nascent stages or have the potential to drastically change the world:\\n\\n*   **Decentralized Autonomous Organizations (DAOs) for Finance:** DAOs could revolutionize how financial institutions are governed and operated. Imagine a DAO managing a lending protocol, where decisions about interest rates, loan approvals, and risk management are made collectively by token holders through smart contracts. This could lead to more transparent, efficient, and democratic financial systems.\\n*   **AI-Powered Hyper-Personalized Financial Advice:** While AI is already used in robo-advisors, the next level involves AI that can deeply understand an individual\\'s financial situation, goals, and even psychological biases to provide truly personalized advice. This could include anticipating financial needs, proactively suggesting investment strategies, and even helping users overcome behavioral finance pitfalls.\\n*   **Quantum Computing in Financial Modeling and Security:** Quantum computing, while still in its early stages, has the potential to revolutionize financial modeling, risk management, and cybersecurity. It could enable the development of more accurate and complex financial models, as well as unbreakable encryption methods to protect financial data.\\n*   **Biometric Authentication for Seamless and Secure Transactions:** Beyond fingerprint and facial recognition, future biometric authentication methods could include vein mapping, voice analysis, or even brainwave scanning. These technologies could provide a more secure and seamless way to authenticate transactions, reducing fraud and improving the user experience.\\n*   **Predictive Analytics for Financial Inclusion:** Using advanced data analytics and machine learning to identify and reach underserved populations with tailored financial products and services. This could involve analyzing alternative data sources (e.g., social media activity, mobile phone usage) to assess creditworthiness and offer microloans or other financial assistance to those who are traditionally excluded from the financial system.',\n",
       " 'description': 'These potential inventions represent a shift towards more decentralized, personalized, secure, and inclusive financial systems. They leverage emerging technologies like blockchain, AI, quantum computing, and advanced biometrics to address existing challenges and create new opportunities in the financial industry. The key is that these are not just incremental improvements but represent fundamental changes in how finance operates.',\n",
       " 'applications': 'Here are some real-world applications of the above mentioned inventions:\\n\\n*   **DAOs:** Managing decentralized lending platforms, investment funds, or insurance protocols.\\n*   **AI-Powered Hyper-Personalized Financial Advice:** Providing customized investment recommendations, retirement planning, and debt management strategies.\\n*   **Quantum Computing:** Developing more accurate risk models for banks and insurance companies, and creating unbreakable encryption for financial data.\\n*   **Biometric Authentication:** Securing mobile payments, online banking, and access to financial accounts.\\n*   **Predictive Analytics for Financial Inclusion:** Offering microloans to small businesses in developing countries, and providing financial literacy education to underserved communities.'}"
      ]
     },
     "execution_count": 41,
     "metadata": {},
     "output_type": "execute_result"
    }
   ],
   "source": [
    "response_schemas = [\n",
    "    ResponseSchema(name=\"answer\", description=\"answer to the user's question\"),\n",
    "    ResponseSchema(name=\"description\", description=\"detaied description on the answer topic\"),\n",
    "    ResponseSchema(name=\"applications\", description=\"real world applications of the answer topic\"),\n",
    "]\n",
    "\n",
    "parser = StructuredOutputParser.from_response_schemas(response_schemas)\n",
    "format_instructions = parser.get_format_instructions()\n",
    "prompt = PromptTemplate(\n",
    "    template=\"Answer the user query as best as possible. \\n {format_instructions}\\n {question}.\\n \",\n",
    "    input_variables=[\"question\"],\n",
    "    partial_variables={\"format_instructions\": parser.get_format_instructions()},\n",
    ")\n",
    "chain = prompt | llm | parser\n",
    "chain.invoke({\"question\": \"Name a few unexplored invention in fintech in the 21th century will and have yet changed the world.\"})"
   ]
  },
  {
   "cell_type": "code",
   "execution_count": null,
   "id": "e8b3fc3a",
   "metadata": {},
   "outputs": [],
   "source": []
  }
 ],
 "metadata": {
  "kernelspec": {
   "display_name": "rag_env",
   "language": "python",
   "name": "python3"
  },
  "language_info": {
   "codemirror_mode": {
    "name": "ipython",
    "version": 3
   },
   "file_extension": ".py",
   "mimetype": "text/x-python",
   "name": "python",
   "nbconvert_exporter": "python",
   "pygments_lexer": "ipython3",
   "version": "3.9.21"
  }
 },
 "nbformat": 4,
 "nbformat_minor": 5
}
